{
 "cells": [
  {
   "cell_type": "code",
   "execution_count": 2,
   "metadata": {
    "collapsed": true
   },
   "outputs": [],
   "source": [
    "import pandas as pd\n",
    "import glob\n",
    "import numpy as np\n",
    "from matplotlib import pyplot as plt\n",
    "%matplotlib inline"
   ]
  },
  {
   "cell_type": "code",
   "execution_count": 79,
   "metadata": {
    "collapsed": false
   },
   "outputs": [],
   "source": [
    "companies = pd.read_csv(\"corpwatch_api_tables_csv/company_info.csv\", delimiter=\"\\t\", dtype={'sector_name' :'S',\n",
    "                                                                                          'industry_name' : 'S',\n",
    "                                                                                            'sic_sector' : 'S'\n",
    "                                                                                           })\n",
    "relations = pd.read_csv(\"corpwatch_api_tables_csv/company_relations.csv\", delimiter=\"\\t\")\n",
    "locations = pd.read_csv(\"corpwatch_api_tables_csv/company_locations.csv\", delimiter=\"\\t\", low_memory=False)"
   ]
  },
  {
   "cell_type": "markdown",
   "metadata": {},
   "source": [
    "[CorpWatch column names reference](http://api.corpwatch.org/documentation/db_dump/README.txt)"
   ]
  },
  {
   "cell_type": "markdown",
   "metadata": {},
   "source": [
    "### Merge country and location datasets"
   ]
  },
  {
   "cell_type": "code",
   "execution_count": 80,
   "metadata": {
    "collapsed": false
   },
   "outputs": [],
   "source": [
    "r = relations[['source_cw_id','target_cw_id','year','relation_origin']]\n",
    "c = companies[['cw_id', 'cik','irs_number', 'company_name', 'best_location_id','sic_sector',\n",
    "               'num_parents', 'num_children', 'top_parent_id','most_recent','year','min_year','max_year']]\n",
    "l = locations[['location_id', 'state', 'country_code']]"
   ]
  },
  {
   "cell_type": "code",
   "execution_count": 81,
   "metadata": {
    "collapsed": false
   },
   "outputs": [],
   "source": [
    "data = pd.merge(left=c, right=l, left_on=\"best_location_id\", right_on=\"location_id\", how=\"left\")"
   ]
  },
  {
   "cell_type": "code",
   "execution_count": 82,
   "metadata": {
    "collapsed": true
   },
   "outputs": [],
   "source": [
    "data = data.drop(['best_location_id', 'location_id'], axis=1)"
   ]
  },
  {
   "cell_type": "code",
   "execution_count": 83,
   "metadata": {
    "collapsed": false
   },
   "outputs": [
    {
     "data": {
      "text/html": [
       "<div>\n",
       "<table border=\"1\" class=\"dataframe\">\n",
       "  <thead>\n",
       "    <tr style=\"text-align: right;\">\n",
       "      <th></th>\n",
       "      <th>cw_id</th>\n",
       "      <th>cik</th>\n",
       "      <th>irs_number</th>\n",
       "      <th>company_name</th>\n",
       "      <th>sic_sector</th>\n",
       "      <th>num_parents</th>\n",
       "      <th>num_children</th>\n",
       "      <th>top_parent_id</th>\n",
       "      <th>most_recent</th>\n",
       "      <th>year</th>\n",
       "      <th>min_year</th>\n",
       "      <th>max_year</th>\n",
       "      <th>state</th>\n",
       "      <th>country_code</th>\n",
       "    </tr>\n",
       "  </thead>\n",
       "  <tbody>\n",
       "    <tr>\n",
       "      <th>0</th>\n",
       "      <td>1</td>\n",
       "      <td>20.0</td>\n",
       "      <td>221759452.0</td>\n",
       "      <td>K TRON INTERNATIONAL INC</td>\n",
       "      <td>3800</td>\n",
       "      <td>1</td>\n",
       "      <td>20</td>\n",
       "      <td>54894</td>\n",
       "      <td>0</td>\n",
       "      <td>2010</td>\n",
       "      <td>2003</td>\n",
       "      <td>2011</td>\n",
       "      <td>NJ</td>\n",
       "      <td>US</td>\n",
       "    </tr>\n",
       "    <tr>\n",
       "      <th>1</th>\n",
       "      <td>12</td>\n",
       "      <td>2070.0</td>\n",
       "      <td>NaN</td>\n",
       "      <td>Acme Electric Corp</td>\n",
       "      <td>NaN</td>\n",
       "      <td>1</td>\n",
       "      <td>0</td>\n",
       "      <td>123</td>\n",
       "      <td>0</td>\n",
       "      <td>2005</td>\n",
       "      <td>2005</td>\n",
       "      <td>2008</td>\n",
       "      <td>NaN</td>\n",
       "      <td>US</td>\n",
       "    </tr>\n",
       "    <tr>\n",
       "      <th>2</th>\n",
       "      <td>12</td>\n",
       "      <td>2070.0</td>\n",
       "      <td>NaN</td>\n",
       "      <td>Acme Electric Corp</td>\n",
       "      <td>NaN</td>\n",
       "      <td>1</td>\n",
       "      <td>0</td>\n",
       "      <td>123</td>\n",
       "      <td>0</td>\n",
       "      <td>2006</td>\n",
       "      <td>2005</td>\n",
       "      <td>2008</td>\n",
       "      <td>NaN</td>\n",
       "      <td>US</td>\n",
       "    </tr>\n",
       "    <tr>\n",
       "      <th>3</th>\n",
       "      <td>12</td>\n",
       "      <td>2070.0</td>\n",
       "      <td>NaN</td>\n",
       "      <td>Acme Electric Corp</td>\n",
       "      <td>NaN</td>\n",
       "      <td>1</td>\n",
       "      <td>0</td>\n",
       "      <td>123</td>\n",
       "      <td>0</td>\n",
       "      <td>2007</td>\n",
       "      <td>2005</td>\n",
       "      <td>2008</td>\n",
       "      <td>NaN</td>\n",
       "      <td>US</td>\n",
       "    </tr>\n",
       "    <tr>\n",
       "      <th>4</th>\n",
       "      <td>12</td>\n",
       "      <td>2070.0</td>\n",
       "      <td>160324980.0</td>\n",
       "      <td>ACME ELECTRIC CORP</td>\n",
       "      <td>3600</td>\n",
       "      <td>1</td>\n",
       "      <td>0</td>\n",
       "      <td>123</td>\n",
       "      <td>1</td>\n",
       "      <td>2008</td>\n",
       "      <td>2005</td>\n",
       "      <td>2008</td>\n",
       "      <td>NY</td>\n",
       "      <td>US</td>\n",
       "    </tr>\n",
       "    <tr>\n",
       "      <th>5</th>\n",
       "      <td>15</td>\n",
       "      <td>2135.0</td>\n",
       "      <td>NaN</td>\n",
       "      <td>Affiliated Computer Services Inc</td>\n",
       "      <td>NaN</td>\n",
       "      <td>1</td>\n",
       "      <td>0</td>\n",
       "      <td>1982</td>\n",
       "      <td>0</td>\n",
       "      <td>2011</td>\n",
       "      <td>2003</td>\n",
       "      <td>2012</td>\n",
       "      <td>NaN</td>\n",
       "      <td>US</td>\n",
       "    </tr>\n",
       "    <tr>\n",
       "      <th>6</th>\n",
       "      <td>15</td>\n",
       "      <td>2135.0</td>\n",
       "      <td>NaN</td>\n",
       "      <td>Affiliated Computer Services Inc</td>\n",
       "      <td>NaN</td>\n",
       "      <td>1</td>\n",
       "      <td>0</td>\n",
       "      <td>1982</td>\n",
       "      <td>1</td>\n",
       "      <td>2012</td>\n",
       "      <td>2003</td>\n",
       "      <td>2012</td>\n",
       "      <td>NaN</td>\n",
       "      <td>US</td>\n",
       "    </tr>\n",
       "    <tr>\n",
       "      <th>7</th>\n",
       "      <td>22</td>\n",
       "      <td>2491.0</td>\n",
       "      <td>880104066.0</td>\n",
       "      <td>BALLY TECHNOLOGIES INC</td>\n",
       "      <td>7300</td>\n",
       "      <td>1</td>\n",
       "      <td>0</td>\n",
       "      <td>4095</td>\n",
       "      <td>0</td>\n",
       "      <td>2015</td>\n",
       "      <td>2003</td>\n",
       "      <td>2016</td>\n",
       "      <td>NV</td>\n",
       "      <td>US</td>\n",
       "    </tr>\n",
       "    <tr>\n",
       "      <th>8</th>\n",
       "      <td>22</td>\n",
       "      <td>2491.0</td>\n",
       "      <td>NaN</td>\n",
       "      <td>Bally Technologies Inc</td>\n",
       "      <td>NaN</td>\n",
       "      <td>1</td>\n",
       "      <td>0</td>\n",
       "      <td>4095</td>\n",
       "      <td>1</td>\n",
       "      <td>2016</td>\n",
       "      <td>2003</td>\n",
       "      <td>2016</td>\n",
       "      <td>NaN</td>\n",
       "      <td>US</td>\n",
       "    </tr>\n",
       "    <tr>\n",
       "      <th>9</th>\n",
       "      <td>24</td>\n",
       "      <td>2601.0</td>\n",
       "      <td>111974412.0</td>\n",
       "      <td>AEROFLEX INC</td>\n",
       "      <td>3600</td>\n",
       "      <td>1</td>\n",
       "      <td>0</td>\n",
       "      <td>601074</td>\n",
       "      <td>0</td>\n",
       "      <td>2011</td>\n",
       "      <td>2003</td>\n",
       "      <td>2013</td>\n",
       "      <td>NY</td>\n",
       "      <td>US</td>\n",
       "    </tr>\n",
       "    <tr>\n",
       "      <th>10</th>\n",
       "      <td>24</td>\n",
       "      <td>2601.0</td>\n",
       "      <td>NaN</td>\n",
       "      <td>Aeroflex Inc</td>\n",
       "      <td>NaN</td>\n",
       "      <td>1</td>\n",
       "      <td>0</td>\n",
       "      <td>601074</td>\n",
       "      <td>0</td>\n",
       "      <td>2012</td>\n",
       "      <td>2003</td>\n",
       "      <td>2013</td>\n",
       "      <td>NaN</td>\n",
       "      <td>US</td>\n",
       "    </tr>\n",
       "    <tr>\n",
       "      <th>11</th>\n",
       "      <td>24</td>\n",
       "      <td>2601.0</td>\n",
       "      <td>NaN</td>\n",
       "      <td>Aeroflex Inc</td>\n",
       "      <td>NaN</td>\n",
       "      <td>1</td>\n",
       "      <td>0</td>\n",
       "      <td>601074</td>\n",
       "      <td>1</td>\n",
       "      <td>2013</td>\n",
       "      <td>2003</td>\n",
       "      <td>2013</td>\n",
       "      <td>NaN</td>\n",
       "      <td>US</td>\n",
       "    </tr>\n",
       "    <tr>\n",
       "      <th>12</th>\n",
       "      <td>37</td>\n",
       "      <td>3153.0</td>\n",
       "      <td>630004250.0</td>\n",
       "      <td>ALABAMA POWER CO</td>\n",
       "      <td>4900</td>\n",
       "      <td>6</td>\n",
       "      <td>36</td>\n",
       "      <td>37</td>\n",
       "      <td>0</td>\n",
       "      <td>2003</td>\n",
       "      <td>2003</td>\n",
       "      <td>2016</td>\n",
       "      <td>AL</td>\n",
       "      <td>US</td>\n",
       "    </tr>\n",
       "    <tr>\n",
       "      <th>13</th>\n",
       "      <td>37</td>\n",
       "      <td>3153.0</td>\n",
       "      <td>630004250.0</td>\n",
       "      <td>ALABAMA POWER CO</td>\n",
       "      <td>4900</td>\n",
       "      <td>6</td>\n",
       "      <td>37</td>\n",
       "      <td>37</td>\n",
       "      <td>0</td>\n",
       "      <td>2004</td>\n",
       "      <td>2003</td>\n",
       "      <td>2016</td>\n",
       "      <td>AL</td>\n",
       "      <td>US</td>\n",
       "    </tr>\n",
       "    <tr>\n",
       "      <th>14</th>\n",
       "      <td>37</td>\n",
       "      <td>3153.0</td>\n",
       "      <td>630004250.0</td>\n",
       "      <td>ALABAMA POWER CO</td>\n",
       "      <td>4900</td>\n",
       "      <td>6</td>\n",
       "      <td>36</td>\n",
       "      <td>37</td>\n",
       "      <td>0</td>\n",
       "      <td>2005</td>\n",
       "      <td>2003</td>\n",
       "      <td>2016</td>\n",
       "      <td>AL</td>\n",
       "      <td>US</td>\n",
       "    </tr>\n",
       "    <tr>\n",
       "      <th>15</th>\n",
       "      <td>37</td>\n",
       "      <td>3153.0</td>\n",
       "      <td>630004250.0</td>\n",
       "      <td>ALABAMA POWER CO</td>\n",
       "      <td>4900</td>\n",
       "      <td>6</td>\n",
       "      <td>37</td>\n",
       "      <td>37</td>\n",
       "      <td>0</td>\n",
       "      <td>2006</td>\n",
       "      <td>2003</td>\n",
       "      <td>2016</td>\n",
       "      <td>AL</td>\n",
       "      <td>US</td>\n",
       "    </tr>\n",
       "    <tr>\n",
       "      <th>16</th>\n",
       "      <td>37</td>\n",
       "      <td>3153.0</td>\n",
       "      <td>630004250.0</td>\n",
       "      <td>ALABAMA POWER CO</td>\n",
       "      <td>4900</td>\n",
       "      <td>5</td>\n",
       "      <td>34</td>\n",
       "      <td>37</td>\n",
       "      <td>0</td>\n",
       "      <td>2007</td>\n",
       "      <td>2003</td>\n",
       "      <td>2016</td>\n",
       "      <td>AL</td>\n",
       "      <td>US</td>\n",
       "    </tr>\n",
       "    <tr>\n",
       "      <th>17</th>\n",
       "      <td>37</td>\n",
       "      <td>3153.0</td>\n",
       "      <td>630004250.0</td>\n",
       "      <td>ALABAMA POWER CO</td>\n",
       "      <td>4900</td>\n",
       "      <td>5</td>\n",
       "      <td>34</td>\n",
       "      <td>37</td>\n",
       "      <td>0</td>\n",
       "      <td>2008</td>\n",
       "      <td>2003</td>\n",
       "      <td>2016</td>\n",
       "      <td>AL</td>\n",
       "      <td>US</td>\n",
       "    </tr>\n",
       "    <tr>\n",
       "      <th>18</th>\n",
       "      <td>37</td>\n",
       "      <td>3153.0</td>\n",
       "      <td>630004250.0</td>\n",
       "      <td>ALABAMA POWER CO</td>\n",
       "      <td>4900</td>\n",
       "      <td>5</td>\n",
       "      <td>33</td>\n",
       "      <td>37</td>\n",
       "      <td>0</td>\n",
       "      <td>2009</td>\n",
       "      <td>2003</td>\n",
       "      <td>2016</td>\n",
       "      <td>AL</td>\n",
       "      <td>US</td>\n",
       "    </tr>\n",
       "    <tr>\n",
       "      <th>19</th>\n",
       "      <td>37</td>\n",
       "      <td>3153.0</td>\n",
       "      <td>630004250.0</td>\n",
       "      <td>ALABAMA POWER CO</td>\n",
       "      <td>4900</td>\n",
       "      <td>5</td>\n",
       "      <td>25</td>\n",
       "      <td>37</td>\n",
       "      <td>0</td>\n",
       "      <td>2010</td>\n",
       "      <td>2003</td>\n",
       "      <td>2016</td>\n",
       "      <td>AL</td>\n",
       "      <td>US</td>\n",
       "    </tr>\n",
       "  </tbody>\n",
       "</table>\n",
       "</div>"
      ],
      "text/plain": [
       "    cw_id     cik   irs_number                      company_name sic_sector  \\\n",
       "0       1    20.0  221759452.0          K TRON INTERNATIONAL INC       3800   \n",
       "1      12  2070.0          NaN                Acme Electric Corp        NaN   \n",
       "2      12  2070.0          NaN                Acme Electric Corp        NaN   \n",
       "3      12  2070.0          NaN                Acme Electric Corp        NaN   \n",
       "4      12  2070.0  160324980.0                ACME ELECTRIC CORP       3600   \n",
       "5      15  2135.0          NaN  Affiliated Computer Services Inc        NaN   \n",
       "6      15  2135.0          NaN  Affiliated Computer Services Inc        NaN   \n",
       "7      22  2491.0  880104066.0            BALLY TECHNOLOGIES INC       7300   \n",
       "8      22  2491.0          NaN            Bally Technologies Inc        NaN   \n",
       "9      24  2601.0  111974412.0                      AEROFLEX INC       3600   \n",
       "10     24  2601.0          NaN                      Aeroflex Inc        NaN   \n",
       "11     24  2601.0          NaN                      Aeroflex Inc        NaN   \n",
       "12     37  3153.0  630004250.0                  ALABAMA POWER CO       4900   \n",
       "13     37  3153.0  630004250.0                  ALABAMA POWER CO       4900   \n",
       "14     37  3153.0  630004250.0                  ALABAMA POWER CO       4900   \n",
       "15     37  3153.0  630004250.0                  ALABAMA POWER CO       4900   \n",
       "16     37  3153.0  630004250.0                  ALABAMA POWER CO       4900   \n",
       "17     37  3153.0  630004250.0                  ALABAMA POWER CO       4900   \n",
       "18     37  3153.0  630004250.0                  ALABAMA POWER CO       4900   \n",
       "19     37  3153.0  630004250.0                  ALABAMA POWER CO       4900   \n",
       "\n",
       "    num_parents  num_children  top_parent_id  most_recent  year  min_year  \\\n",
       "0             1            20          54894            0  2010      2003   \n",
       "1             1             0            123            0  2005      2005   \n",
       "2             1             0            123            0  2006      2005   \n",
       "3             1             0            123            0  2007      2005   \n",
       "4             1             0            123            1  2008      2005   \n",
       "5             1             0           1982            0  2011      2003   \n",
       "6             1             0           1982            1  2012      2003   \n",
       "7             1             0           4095            0  2015      2003   \n",
       "8             1             0           4095            1  2016      2003   \n",
       "9             1             0         601074            0  2011      2003   \n",
       "10            1             0         601074            0  2012      2003   \n",
       "11            1             0         601074            1  2013      2003   \n",
       "12            6            36             37            0  2003      2003   \n",
       "13            6            37             37            0  2004      2003   \n",
       "14            6            36             37            0  2005      2003   \n",
       "15            6            37             37            0  2006      2003   \n",
       "16            5            34             37            0  2007      2003   \n",
       "17            5            34             37            0  2008      2003   \n",
       "18            5            33             37            0  2009      2003   \n",
       "19            5            25             37            0  2010      2003   \n",
       "\n",
       "    max_year state country_code  \n",
       "0       2011    NJ           US  \n",
       "1       2008   NaN           US  \n",
       "2       2008   NaN           US  \n",
       "3       2008   NaN           US  \n",
       "4       2008    NY           US  \n",
       "5       2012   NaN           US  \n",
       "6       2012   NaN           US  \n",
       "7       2016    NV           US  \n",
       "8       2016   NaN           US  \n",
       "9       2013    NY           US  \n",
       "10      2013   NaN           US  \n",
       "11      2013   NaN           US  \n",
       "12      2016    AL           US  \n",
       "13      2016    AL           US  \n",
       "14      2016    AL           US  \n",
       "15      2016    AL           US  \n",
       "16      2016    AL           US  \n",
       "17      2016    AL           US  \n",
       "18      2016    AL           US  \n",
       "19      2016    AL           US  "
      ]
     },
     "execution_count": 83,
     "metadata": {},
     "output_type": "execute_result"
    }
   ],
   "source": [
    "data.head(20)"
   ]
  },
  {
   "cell_type": "code",
   "execution_count": 142,
   "metadata": {
    "collapsed": false
   },
   "outputs": [
    {
     "data": {
      "text/html": [
       "<div>\n",
       "<table border=\"1\" class=\"dataframe\">\n",
       "  <thead>\n",
       "    <tr style=\"text-align: right;\">\n",
       "      <th></th>\n",
       "      <th>cw_id</th>\n",
       "      <th>cik</th>\n",
       "      <th>irs_number</th>\n",
       "      <th>num_parents</th>\n",
       "      <th>num_children</th>\n",
       "      <th>top_parent_id</th>\n",
       "      <th>most_recent</th>\n",
       "      <th>year</th>\n",
       "      <th>min_year</th>\n",
       "      <th>max_year</th>\n",
       "    </tr>\n",
       "  </thead>\n",
       "  <tbody>\n",
       "    <tr>\n",
       "      <th>count</th>\n",
       "      <td>3.109283e+06</td>\n",
       "      <td>3.109064e+06</td>\n",
       "      <td>7.532160e+05</td>\n",
       "      <td>3.109283e+06</td>\n",
       "      <td>3.109283e+06</td>\n",
       "      <td>3.109283e+06</td>\n",
       "      <td>3.109283e+06</td>\n",
       "      <td>3.109283e+06</td>\n",
       "      <td>3.109283e+06</td>\n",
       "      <td>3.109283e+06</td>\n",
       "    </tr>\n",
       "    <tr>\n",
       "      <th>mean</th>\n",
       "      <td>3.345818e+05</td>\n",
       "      <td>5.110050e+05</td>\n",
       "      <td>2.965487e+08</td>\n",
       "      <td>7.102178e-01</td>\n",
       "      <td>7.102178e-01</td>\n",
       "      <td>1.444733e+05</td>\n",
       "      <td>2.908429e-01</td>\n",
       "      <td>2.009659e+03</td>\n",
       "      <td>2.006609e+03</td>\n",
       "      <td>2.012741e+03</td>\n",
       "    </tr>\n",
       "    <tr>\n",
       "      <th>std</th>\n",
       "      <td>2.617719e+05</td>\n",
       "      <td>6.459057e+05</td>\n",
       "      <td>3.068956e+08</td>\n",
       "      <td>8.207103e-01</td>\n",
       "      <td>1.397378e+01</td>\n",
       "      <td>2.412987e+05</td>\n",
       "      <td>4.541513e-01</td>\n",
       "      <td>3.956335e+00</td>\n",
       "      <td>3.770880e+00</td>\n",
       "      <td>3.793737e+00</td>\n",
       "    </tr>\n",
       "    <tr>\n",
       "      <th>min</th>\n",
       "      <td>1.000000e+00</td>\n",
       "      <td>0.000000e+00</td>\n",
       "      <td>0.000000e+00</td>\n",
       "      <td>0.000000e+00</td>\n",
       "      <td>0.000000e+00</td>\n",
       "      <td>1.000000e+00</td>\n",
       "      <td>0.000000e+00</td>\n",
       "      <td>2.003000e+03</td>\n",
       "      <td>2.003000e+03</td>\n",
       "      <td>2.003000e+03</td>\n",
       "    </tr>\n",
       "    <tr>\n",
       "      <th>25%</th>\n",
       "      <td>1.140550e+05</td>\n",
       "      <td>0.000000e+00</td>\n",
       "      <td>0.000000e+00</td>\n",
       "      <td>0.000000e+00</td>\n",
       "      <td>0.000000e+00</td>\n",
       "      <td>5.300000e+03</td>\n",
       "      <td>0.000000e+00</td>\n",
       "      <td>2.006000e+03</td>\n",
       "      <td>2.003000e+03</td>\n",
       "      <td>2.010000e+03</td>\n",
       "    </tr>\n",
       "    <tr>\n",
       "      <th>50%</th>\n",
       "      <td>2.362770e+05</td>\n",
       "      <td>0.000000e+00</td>\n",
       "      <td>2.232687e+08</td>\n",
       "      <td>1.000000e+00</td>\n",
       "      <td>0.000000e+00</td>\n",
       "      <td>1.645100e+04</td>\n",
       "      <td>0.000000e+00</td>\n",
       "      <td>2.010000e+03</td>\n",
       "      <td>2.005000e+03</td>\n",
       "      <td>2.015000e+03</td>\n",
       "    </tr>\n",
       "    <tr>\n",
       "      <th>75%</th>\n",
       "      <td>5.608560e+05</td>\n",
       "      <td>1.233001e+06</td>\n",
       "      <td>4.733366e+08</td>\n",
       "      <td>1.000000e+00</td>\n",
       "      <td>0.000000e+00</td>\n",
       "      <td>2.430890e+05</td>\n",
       "      <td>1.000000e+00</td>\n",
       "      <td>2.013000e+03</td>\n",
       "      <td>2.009000e+03</td>\n",
       "      <td>2.016000e+03</td>\n",
       "    </tr>\n",
       "    <tr>\n",
       "      <th>max</th>\n",
       "      <td>9.243790e+05</td>\n",
       "      <td>1.674680e+06</td>\n",
       "      <td>1.000000e+09</td>\n",
       "      <td>6.700000e+01</td>\n",
       "      <td>2.808000e+03</td>\n",
       "      <td>9.241600e+05</td>\n",
       "      <td>1.000000e+00</td>\n",
       "      <td>2.016000e+03</td>\n",
       "      <td>2.016000e+03</td>\n",
       "      <td>2.016000e+03</td>\n",
       "    </tr>\n",
       "  </tbody>\n",
       "</table>\n",
       "</div>"
      ],
      "text/plain": [
       "              cw_id           cik    irs_number   num_parents  num_children  \\\n",
       "count  3.109283e+06  3.109064e+06  7.532160e+05  3.109283e+06  3.109283e+06   \n",
       "mean   3.345818e+05  5.110050e+05  2.965487e+08  7.102178e-01  7.102178e-01   \n",
       "std    2.617719e+05  6.459057e+05  3.068956e+08  8.207103e-01  1.397378e+01   \n",
       "min    1.000000e+00  0.000000e+00  0.000000e+00  0.000000e+00  0.000000e+00   \n",
       "25%    1.140550e+05  0.000000e+00  0.000000e+00  0.000000e+00  0.000000e+00   \n",
       "50%    2.362770e+05  0.000000e+00  2.232687e+08  1.000000e+00  0.000000e+00   \n",
       "75%    5.608560e+05  1.233001e+06  4.733366e+08  1.000000e+00  0.000000e+00   \n",
       "max    9.243790e+05  1.674680e+06  1.000000e+09  6.700000e+01  2.808000e+03   \n",
       "\n",
       "       top_parent_id   most_recent          year      min_year      max_year  \n",
       "count   3.109283e+06  3.109283e+06  3.109283e+06  3.109283e+06  3.109283e+06  \n",
       "mean    1.444733e+05  2.908429e-01  2.009659e+03  2.006609e+03  2.012741e+03  \n",
       "std     2.412987e+05  4.541513e-01  3.956335e+00  3.770880e+00  3.793737e+00  \n",
       "min     1.000000e+00  0.000000e+00  2.003000e+03  2.003000e+03  2.003000e+03  \n",
       "25%     5.300000e+03  0.000000e+00  2.006000e+03  2.003000e+03  2.010000e+03  \n",
       "50%     1.645100e+04  0.000000e+00  2.010000e+03  2.005000e+03  2.015000e+03  \n",
       "75%     2.430890e+05  1.000000e+00  2.013000e+03  2.009000e+03  2.016000e+03  \n",
       "max     9.241600e+05  1.000000e+00  2.016000e+03  2.016000e+03  2.016000e+03  "
      ]
     },
     "execution_count": 142,
     "metadata": {},
     "output_type": "execute_result"
    }
   ],
   "source": [
    "data.describe()"
   ]
  },
  {
   "cell_type": "markdown",
   "metadata": {},
   "source": [
    "## Number of children in over the years"
   ]
  },
  {
   "cell_type": "markdown",
   "metadata": {},
   "source": [
    "2009469 children companies & 1099814 parent companies"
   ]
  },
  {
   "cell_type": "code",
   "execution_count": 87,
   "metadata": {
    "collapsed": false
   },
   "outputs": [],
   "source": [
    "children = data[data['num_parents'] != 0][['cik','year']].drop_duplicates().groupby('year').count() #have at least one parent"
   ]
  },
  {
   "cell_type": "code",
   "execution_count": 88,
   "metadata": {
    "collapsed": true
   },
   "outputs": [],
   "source": [
    "parents = data[data['num_children'] != 0][['cik','year']].drop_duplicates().groupby('year')['cik'].count() #have at least one child"
   ]
  },
  {
   "cell_type": "code",
   "execution_count": 89,
   "metadata": {
    "collapsed": false
   },
   "outputs": [],
   "source": [
    "parentless = data[data['num_parents'] == 0][['cik','year']].drop_duplicates().groupby('year')['cik'].count() #have no parent"
   ]
  },
  {
   "cell_type": "code",
   "execution_count": 90,
   "metadata": {
    "collapsed": true
   },
   "outputs": [],
   "source": [
    "childless = data[data['num_children'] == 0][['cik','year']].drop_duplicates().groupby('year')['cik'].count() #have at no child"
   ]
  },
  {
   "cell_type": "markdown",
   "metadata": {},
   "source": [
    "### amount of companies per year"
   ]
  },
  {
   "cell_type": "code",
   "execution_count": 91,
   "metadata": {
    "collapsed": false
   },
   "outputs": [
    {
     "data": {
      "text/html": [
       "<div>\n",
       "<table border=\"1\" class=\"dataframe\">\n",
       "  <thead>\n",
       "    <tr style=\"text-align: right;\">\n",
       "      <th></th>\n",
       "      <th>cik</th>\n",
       "    </tr>\n",
       "    <tr>\n",
       "      <th>year</th>\n",
       "      <th></th>\n",
       "    </tr>\n",
       "  </thead>\n",
       "  <tbody>\n",
       "    <tr>\n",
       "      <th>2003</th>\n",
       "      <td>78643</td>\n",
       "    </tr>\n",
       "    <tr>\n",
       "      <th>2004</th>\n",
       "      <td>91731</td>\n",
       "    </tr>\n",
       "    <tr>\n",
       "      <th>2005</th>\n",
       "      <td>90227</td>\n",
       "    </tr>\n",
       "    <tr>\n",
       "      <th>2006</th>\n",
       "      <td>90304</td>\n",
       "    </tr>\n",
       "    <tr>\n",
       "      <th>2007</th>\n",
       "      <td>90455</td>\n",
       "    </tr>\n",
       "    <tr>\n",
       "      <th>2008</th>\n",
       "      <td>81855</td>\n",
       "    </tr>\n",
       "    <tr>\n",
       "      <th>2009</th>\n",
       "      <td>89134</td>\n",
       "    </tr>\n",
       "    <tr>\n",
       "      <th>2010</th>\n",
       "      <td>94356</td>\n",
       "    </tr>\n",
       "    <tr>\n",
       "      <th>2011</th>\n",
       "      <td>96047</td>\n",
       "    </tr>\n",
       "    <tr>\n",
       "      <th>2012</th>\n",
       "      <td>96745</td>\n",
       "    </tr>\n",
       "    <tr>\n",
       "      <th>2013</th>\n",
       "      <td>99689</td>\n",
       "    </tr>\n",
       "    <tr>\n",
       "      <th>2014</th>\n",
       "      <td>98442</td>\n",
       "    </tr>\n",
       "    <tr>\n",
       "      <th>2015</th>\n",
       "      <td>105045</td>\n",
       "    </tr>\n",
       "    <tr>\n",
       "      <th>2016</th>\n",
       "      <td>66738</td>\n",
       "    </tr>\n",
       "  </tbody>\n",
       "</table>\n",
       "</div>"
      ],
      "text/plain": [
       "         cik\n",
       "year        \n",
       "2003   78643\n",
       "2004   91731\n",
       "2005   90227\n",
       "2006   90304\n",
       "2007   90455\n",
       "2008   81855\n",
       "2009   89134\n",
       "2010   94356\n",
       "2011   96047\n",
       "2012   96745\n",
       "2013   99689\n",
       "2014   98442\n",
       "2015  105045\n",
       "2016   66738"
      ]
     },
     "execution_count": 91,
     "metadata": {},
     "output_type": "execute_result"
    }
   ],
   "source": [
    "data[['cik', 'year']].drop_duplicates().groupby('year').count()"
   ]
  },
  {
   "cell_type": "code",
   "execution_count": 92,
   "metadata": {
    "collapsed": false
   },
   "outputs": [
    {
     "data": {
      "text/plain": [
       "[<matplotlib.lines.Line2D at 0x7f84f79f4150>]"
      ]
     },
     "execution_count": 92,
     "metadata": {},
     "output_type": "execute_result"
    },
    {
     "data": {
      "image/png": "[encoded data removed]",
      "text/plain": [
       "<matplotlib.figure.Figure at 0x7f84ae148e50>"
      ]
     },
     "metadata": {},
     "output_type": "display_data"
    }
   ],
   "source": [
    "plt.plot(children)"
   ]
  },
  {
   "cell_type": "markdown",
   "metadata": {},
   "source": [
    "The amount of companies that say to have at least one child company is on decline (while the amount of companies stays roughly the same)."
   ]
  },
  {
   "cell_type": "code",
   "execution_count": 93,
   "metadata": {
    "collapsed": false
   },
   "outputs": [
    {
     "data": {
      "text/plain": [
       "[<matplotlib.lines.Line2D at 0x7f84f7941050>]"
      ]
     },
     "execution_count": 93,
     "metadata": {},
     "output_type": "execute_result"
    },
    {
     "data": {
      "image/png": "[encoded data removed]",
      "text/plain": [
       "<matplotlib.figure.Figure at 0x7f84f60379d0>"
      ]
     },
     "metadata": {},
     "output_type": "display_data"
    }
   ],
   "source": [
    "plt.plot(parents)"
   ]
  },
  {
   "cell_type": "code",
   "execution_count": 94,
   "metadata": {
    "collapsed": false
   },
   "outputs": [
    {
     "data": {
      "text/plain": [
       "[<matplotlib.lines.Line2D at 0x7f84f7872610>]"
      ]
     },
     "execution_count": 94,
     "metadata": {},
     "output_type": "execute_result"
    },
    {
     "data": {
      "image/png": "[encoded data removed]",
      "text/plain": [
       "<matplotlib.figure.Figure at 0x7f84f7957f10>"
      ]
     },
     "metadata": {},
     "output_type": "display_data"
    }
   ],
   "source": [
    "plt.plot(parentless)"
   ]
  },
  {
   "cell_type": "code",
   "execution_count": 95,
   "metadata": {
    "collapsed": false
   },
   "outputs": [
    {
     "data": {
      "text/plain": [
       "[<matplotlib.lines.Line2D at 0x7f84f77b4910>]"
      ]
     },
     "execution_count": 95,
     "metadata": {},
     "output_type": "execute_result"
    },
    {
     "data": {
      "image/png": "[encoded data removed]",
      "text/plain": [
       "<matplotlib.figure.Figure at 0x7f84f788b4d0>"
      ]
     },
     "metadata": {},
     "output_type": "display_data"
    }
   ],
   "source": [
    "plt.plot(childless)"
   ]
  },
  {
   "cell_type": "markdown",
   "metadata": {},
   "source": [
    "### Extractive industry"
   ]
  },
  {
   "cell_type": "markdown",
   "metadata": {},
   "source": [
    "Get the SICs of extractive industries. Only 2-digits depth present in the dataset. Chosen SICs that are all extractive. [sic codes reference](https://www.sec.gov/info/edgar/siccodes.htm)"
   ]
  },
  {
   "cell_type": "code",
   "execution_count": 84,
   "metadata": {
    "collapsed": false
   },
   "outputs": [],
   "source": [
    "#esic = pd.read_csv(\"extraction_sics.csv\", header=None, names=[\"SIC\"])[\"SIC\"].tolist()\n",
    "#esic2 = [str(e)[:2] for e in esic]"
   ]
  },
  {
   "cell_type": "code",
   "execution_count": 127,
   "metadata": {
    "collapsed": false
   },
   "outputs": [],
   "source": [
    "esic2 = ['10','11','12','13','14','33']"
   ]
  },
  {
   "cell_type": "markdown",
   "metadata": {},
   "source": [
    "get all rows where the SIC starts with `esic2` elements"
   ]
  },
  {
   "cell_type": "code",
   "execution_count": 137,
   "metadata": {
    "collapsed": false
   },
   "outputs": [],
   "source": [
    "edata = data.ix[data['sic_sector'].str.contains(r'^'+'..|'.join(esic2), na=False)].reset_index()"
   ]
  },
  {
   "cell_type": "code",
   "execution_count": 145,
   "metadata": {
    "collapsed": false
   },
   "outputs": [
    {
     "data": {
      "text/plain": [
       "sic_sector\n",
       "1000    6641\n",
       "1200     709\n",
       "1300    8068\n",
       "1400    1034\n",
       "3300    1445\n",
       "Name: cik, dtype: int64"
      ]
     },
     "execution_count": 145,
     "metadata": {},
     "output_type": "execute_result"
    }
   ],
   "source": [
    "edata.groupby('sic_sector')['cik'].count()"
   ]
  },
  {
   "cell_type": "code",
   "execution_count": 146,
   "metadata": {
    "collapsed": false
   },
   "outputs": [
    {
     "data": {
      "text/html": [
       "<div>\n",
       "<table border=\"1\" class=\"dataframe\">\n",
       "  <thead>\n",
       "    <tr style=\"text-align: right;\">\n",
       "      <th></th>\n",
       "      <th>index</th>\n",
       "      <th>cw_id</th>\n",
       "      <th>cik</th>\n",
       "      <th>irs_number</th>\n",
       "      <th>num_parents</th>\n",
       "      <th>num_children</th>\n",
       "      <th>top_parent_id</th>\n",
       "      <th>most_recent</th>\n",
       "      <th>year</th>\n",
       "      <th>min_year</th>\n",
       "      <th>max_year</th>\n",
       "    </tr>\n",
       "  </thead>\n",
       "  <tbody>\n",
       "    <tr>\n",
       "      <th>count</th>\n",
       "      <td>1.789700e+04</td>\n",
       "      <td>17897.000000</td>\n",
       "      <td>1.789700e+04</td>\n",
       "      <td>1.746300e+04</td>\n",
       "      <td>17897.000000</td>\n",
       "      <td>17897.000000</td>\n",
       "      <td>17897.000000</td>\n",
       "      <td>17897.000000</td>\n",
       "      <td>17897.000000</td>\n",
       "      <td>17897.000000</td>\n",
       "      <td>17897.000000</td>\n",
       "    </tr>\n",
       "    <tr>\n",
       "      <th>mean</th>\n",
       "      <td>2.226199e+06</td>\n",
       "      <td>99825.714142</td>\n",
       "      <td>1.073994e+06</td>\n",
       "      <td>4.029286e+08</td>\n",
       "      <td>0.043136</td>\n",
       "      <td>3.640945</td>\n",
       "      <td>97418.020674</td>\n",
       "      <td>0.143097</td>\n",
       "      <td>2009.325250</td>\n",
       "      <td>2004.671230</td>\n",
       "      <td>2013.908867</td>\n",
       "    </tr>\n",
       "    <tr>\n",
       "      <th>std</th>\n",
       "      <td>4.636393e+05</td>\n",
       "      <td>177501.581103</td>\n",
       "      <td>3.756819e+05</td>\n",
       "      <td>3.796470e+08</td>\n",
       "      <td>0.222090</td>\n",
       "      <td>18.575200</td>\n",
       "      <td>177168.280946</td>\n",
       "      <td>0.350181</td>\n",
       "      <td>3.803891</td>\n",
       "      <td>2.496461</td>\n",
       "      <td>3.007537</td>\n",
       "    </tr>\n",
       "    <tr>\n",
       "      <th>min</th>\n",
       "      <td>1.408000e+03</td>\n",
       "      <td>6.000000</td>\n",
       "      <td>1.853000e+03</td>\n",
       "      <td>0.000000e+00</td>\n",
       "      <td>0.000000</td>\n",
       "      <td>0.000000</td>\n",
       "      <td>6.000000</td>\n",
       "      <td>0.000000</td>\n",
       "      <td>2003.000000</td>\n",
       "      <td>2003.000000</td>\n",
       "      <td>2003.000000</td>\n",
       "    </tr>\n",
       "    <tr>\n",
       "      <th>25%</th>\n",
       "      <td>2.114776e+06</td>\n",
       "      <td>11891.000000</td>\n",
       "      <td>9.125000e+05</td>\n",
       "      <td>0.000000e+00</td>\n",
       "      <td>0.000000</td>\n",
       "      <td>0.000000</td>\n",
       "      <td>11782.000000</td>\n",
       "      <td>0.000000</td>\n",
       "      <td>2006.000000</td>\n",
       "      <td>2003.000000</td>\n",
       "      <td>2013.000000</td>\n",
       "    </tr>\n",
       "    <tr>\n",
       "      <th>50%</th>\n",
       "      <td>2.242939e+06</td>\n",
       "      <td>29935.000000</td>\n",
       "      <td>1.133932e+06</td>\n",
       "      <td>2.660539e+08</td>\n",
       "      <td>0.000000</td>\n",
       "      <td>0.000000</td>\n",
       "      <td>27334.000000</td>\n",
       "      <td>0.000000</td>\n",
       "      <td>2009.000000</td>\n",
       "      <td>2003.000000</td>\n",
       "      <td>2016.000000</td>\n",
       "    </tr>\n",
       "    <tr>\n",
       "      <th>75%</th>\n",
       "      <td>2.393069e+06</td>\n",
       "      <td>53993.000000</td>\n",
       "      <td>1.351765e+06</td>\n",
       "      <td>7.703236e+08</td>\n",
       "      <td>0.000000</td>\n",
       "      <td>0.000000</td>\n",
       "      <td>52120.000000</td>\n",
       "      <td>0.000000</td>\n",
       "      <td>2012.000000</td>\n",
       "      <td>2006.000000</td>\n",
       "      <td>2016.000000</td>\n",
       "    </tr>\n",
       "    <tr>\n",
       "      <th>max</th>\n",
       "      <td>3.107218e+06</td>\n",
       "      <td>922096.000000</td>\n",
       "      <td>1.664576e+06</td>\n",
       "      <td>1.000000e+09</td>\n",
       "      <td>5.000000</td>\n",
       "      <td>501.000000</td>\n",
       "      <td>922096.000000</td>\n",
       "      <td>1.000000</td>\n",
       "      <td>2016.000000</td>\n",
       "      <td>2016.000000</td>\n",
       "      <td>2016.000000</td>\n",
       "    </tr>\n",
       "  </tbody>\n",
       "</table>\n",
       "</div>"
      ],
      "text/plain": [
       "              index          cw_id           cik    irs_number   num_parents  \\\n",
       "count  1.789700e+04   17897.000000  1.789700e+04  1.746300e+04  17897.000000   \n",
       "mean   2.226199e+06   99825.714142  1.073994e+06  4.029286e+08      0.043136   \n",
       "std    4.636393e+05  177501.581103  3.756819e+05  3.796470e+08      0.222090   \n",
       "min    1.408000e+03       6.000000  1.853000e+03  0.000000e+00      0.000000   \n",
       "25%    2.114776e+06   11891.000000  9.125000e+05  0.000000e+00      0.000000   \n",
       "50%    2.242939e+06   29935.000000  1.133932e+06  2.660539e+08      0.000000   \n",
       "75%    2.393069e+06   53993.000000  1.351765e+06  7.703236e+08      0.000000   \n",
       "max    3.107218e+06  922096.000000  1.664576e+06  1.000000e+09      5.000000   \n",
       "\n",
       "       num_children  top_parent_id   most_recent          year      min_year  \\\n",
       "count  17897.000000   17897.000000  17897.000000  17897.000000  17897.000000   \n",
       "mean       3.640945   97418.020674      0.143097   2009.325250   2004.671230   \n",
       "std       18.575200  177168.280946      0.350181      3.803891      2.496461   \n",
       "min        0.000000       6.000000      0.000000   2003.000000   2003.000000   \n",
       "25%        0.000000   11782.000000      0.000000   2006.000000   2003.000000   \n",
       "50%        0.000000   27334.000000      0.000000   2009.000000   2003.000000   \n",
       "75%        0.000000   52120.000000      0.000000   2012.000000   2006.000000   \n",
       "max      501.000000  922096.000000      1.000000   2016.000000   2016.000000   \n",
       "\n",
       "           max_year  \n",
       "count  17897.000000  \n",
       "mean    2013.908867  \n",
       "std        3.007537  \n",
       "min     2003.000000  \n",
       "25%     2013.000000  \n",
       "50%     2016.000000  \n",
       "75%     2016.000000  \n",
       "max     2016.000000  "
      ]
     },
     "execution_count": 146,
     "metadata": {},
     "output_type": "execute_result"
    }
   ],
   "source": [
    "edata.describe()"
   ]
  },
  {
   "cell_type": "code",
   "execution_count": null,
   "metadata": {
    "collapsed": true
   },
   "outputs": [],
   "source": []
  }
 ],
 "metadata": {
  "kernelspec": {
   "display_name": "Python 2",
   "language": "python",
   "name": "python2"
  },
  "language_info": {
   "codemirror_mode": {
    "name": "ipython",
    "version": 2
   },
   "file_extension": ".py",
   "mimetype": "text/x-python",
   "name": "python",
   "nbconvert_exporter": "python",
   "pygments_lexer": "ipython2",
   "version": "2.7.8"
  }
 },
 "nbformat": 4,
 "nbformat_minor": 0
}
