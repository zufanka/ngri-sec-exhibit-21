{
 "cells": [
  {
   "cell_type": "code",
   "execution_count": 1,
   "metadata": {
    "collapsed": true
   },
   "outputs": [],
   "source": [
    "import pandas as pd\n",
    "from matplotlib import pyplot as plt\n",
    "%matplotlib inline"
   ]
  },
  {
   "cell_type": "markdown",
   "metadata": {},
   "source": [
    "## assign SICs"
   ]
  },
  {
   "cell_type": "code",
   "execution_count": 2,
   "metadata": {
    "collapsed": false
   },
   "outputs": [],
   "source": [
    "sics = pd.read_csv('1504_Companies_MASTER.csv', dtype={'SIC': 'S'})\n",
    "sics = sics[['SIC','SIC Description']].drop_duplicates(keep=\"first\")"
   ]
  },
  {
   "cell_type": "code",
   "execution_count": 3,
   "metadata": {
    "collapsed": false
   },
   "outputs": [],
   "source": [
    "cs = pd.read_csv('companies-and-sectors')"
   ]
  },
  {
   "cell_type": "code",
   "execution_count": 4,
   "metadata": {
    "collapsed": false
   },
   "outputs": [],
   "source": [
    "country = pd.read_csv('csv/country31may2015.csv',\n",
    "                     dtype={'CIKNUMBER': 'I',\n",
    "                           'IRSNUMBER': 'S',\n",
    "                           'TAXHAVEN': 'S'} )"
   ]
  },
  {
   "cell_type": "markdown",
   "metadata": {},
   "source": [
    "CIKNUMBER - chamber of commerce nr <br>\n",
    "IRSNUMBER - tax number <br>\n",
    "NAME - company name <br>\n",
    "DATADATE - date of establishment <br>\n",
    "FILEDATE - file date <br>\n",
    "INCSTATE - state of incorporation <br>\n",
    "HQSTATE - state where headquarters is <br>\n",
    "ISO3 - subsidiary ISO3 <br>\n",
    "COUNTRY - subsidiary company country <br>\n",
    "TAXHAVEN - subsidiary company a tax haven? <br>\n",
    "COUNTRYCOUNT - amount of branches in the country <br>\n",
    "TOTALCOUNT - total amount of subsidiary branches <br>\n",
    "NCOUNTRIES - total amount of countries with subsidiaries <br>\n"
   ]
  },
  {
   "cell_type": "markdown",
   "metadata": {},
   "source": [
    "merge all according to SICS"
   ]
  },
  {
   "cell_type": "code",
   "execution_count": 7,
   "metadata": {
    "collapsed": false
   },
   "outputs": [],
   "source": [
    "merged = pd.merge(left=country, right=cs, left_on =\"CIKNUMBER\", right_on=\"cik\")\n",
    "merged['year'] = pd.to_datetime(merged['DATADATE']).dt.year"
   ]
  },
  {
   "cell_type": "markdown",
   "metadata": {},
   "source": [
    "## ALL COMPANIES"
   ]
  },
  {
   "cell_type": "code",
   "execution_count": 8,
   "metadata": {
    "collapsed": false
   },
   "outputs": [
    {
     "data": {
      "text/plain": [
       "[<matplotlib.lines.Line2D at 0x7f1cec55d350>,\n",
       " <matplotlib.lines.Line2D at 0x7f1cec55d450>]"
      ]
     },
     "execution_count": 8,
     "metadata": {},
     "output_type": "execute_result"
    },
    {
     "data": {
      "image/png": "[encoded data removed]",
      "text/plain": [
       "<matplotlib.figure.Figure at 0x7f1cebb19850>"
      ]
     },
     "metadata": {},
     "output_type": "display_data"
    }
   ],
   "source": [
    "filtered = pd.DataFrame(merged.groupby(by=['year', 'TAXHAVEN']).count()['NAME'])\n",
    "plt.plot(filtered.index.levels[0].tolist()[7:-1], filtered.filter(like='1.0', axis =0)['NAME'].tolist()[:-1],\n",
    "         'rs',filtered.index.levels[0].tolist()[7:-1],filtered.filter(like='0.0', axis =0)['NAME'].tolist()[:-1],'bs')"
   ]
  },
  {
   "cell_type": "code",
   "execution_count": null,
   "metadata": {
    "collapsed": true
   },
   "outputs": [],
   "source": []
  },
  {
   "cell_type": "code",
   "execution_count": 9,
   "metadata": {
    "collapsed": false
   },
   "outputs": [
    {
     "data": {
      "text/plain": [
       "[1993,\n",
       " 1994,\n",
       " 1995,\n",
       " 1996,\n",
       " 1997,\n",
       " 1998,\n",
       " 1999,\n",
       " 2000,\n",
       " 2001,\n",
       " 2002,\n",
       " 2003,\n",
       " 2004,\n",
       " 2005,\n",
       " 2006,\n",
       " 2007,\n",
       " 2008,\n",
       " 2009,\n",
       " 2010,\n",
       " 2011,\n",
       " 2012,\n",
       " 2013,\n",
       " 2014]"
      ]
     },
     "execution_count": 9,
     "metadata": {},
     "output_type": "execute_result"
    }
   ],
   "source": [
    "filtered.index.levels[0].tolist()[7:]"
   ]
  },
  {
   "cell_type": "markdown",
   "metadata": {},
   "source": [
    "merge only extractive according to to SICS"
   ]
  },
  {
   "cell_type": "code",
   "execution_count": 10,
   "metadata": {
    "collapsed": false
   },
   "outputs": [],
   "source": [
    "extractive = pd.merge(left=merged, right=sics, left_on = \"sic\", right_on=\"SIC\")"
   ]
  },
  {
   "cell_type": "code",
   "execution_count": 11,
   "metadata": {
    "collapsed": false
   },
   "outputs": [],
   "source": [
    "extractive['year'] = pd.to_datetime(extractive['DATADATE']).dt.year"
   ]
  },
  {
   "cell_type": "code",
   "execution_count": 12,
   "metadata": {
    "collapsed": false
   },
   "outputs": [],
   "source": [
    "extractive = pd.DataFrame(extractive.groupby(by=['year', 'TAXHAVEN']).count()['NAME'])"
   ]
  },
  {
   "cell_type": "code",
   "execution_count": 13,
   "metadata": {
    "collapsed": false
   },
   "outputs": [
    {
     "data": {
      "text/html": [
       "<div>\n",
       "<table border=\"1\" class=\"dataframe\">\n",
       "  <thead>\n",
       "    <tr style=\"text-align: right;\">\n",
       "      <th></th>\n",
       "      <th></th>\n",
       "      <th>NAME</th>\n",
       "    </tr>\n",
       "    <tr>\n",
       "      <th>year</th>\n",
       "      <th>TAXHAVEN</th>\n",
       "      <th></th>\n",
       "    </tr>\n",
       "  </thead>\n",
       "  <tbody>\n",
       "    <tr>\n",
       "      <th rowspan=\"2\" valign=\"top\">1993</th>\n",
       "      <th>0.0</th>\n",
       "      <td>179</td>\n",
       "    </tr>\n",
       "    <tr>\n",
       "      <th>1.0</th>\n",
       "      <td>46</td>\n",
       "    </tr>\n",
       "    <tr>\n",
       "      <th rowspan=\"2\" valign=\"top\">1994</th>\n",
       "      <th>0.0</th>\n",
       "      <td>189</td>\n",
       "    </tr>\n",
       "    <tr>\n",
       "      <th>1.0</th>\n",
       "      <td>49</td>\n",
       "    </tr>\n",
       "    <tr>\n",
       "      <th>1995</th>\n",
       "      <th>0.0</th>\n",
       "      <td>342</td>\n",
       "    </tr>\n",
       "  </tbody>\n",
       "</table>\n",
       "</div>"
      ],
      "text/plain": [
       "               NAME\n",
       "year TAXHAVEN      \n",
       "1993 0.0        179\n",
       "     1.0         46\n",
       "1994 0.0        189\n",
       "     1.0         49\n",
       "1995 0.0        342"
      ]
     },
     "execution_count": 13,
     "metadata": {},
     "output_type": "execute_result"
    }
   ],
   "source": [
    "extractive.head()"
   ]
  },
  {
   "cell_type": "code",
   "execution_count": 14,
   "metadata": {
    "collapsed": false
   },
   "outputs": [
    {
     "data": {
      "text/plain": [
       "[46,\n",
       " 49,\n",
       " 96,\n",
       " 125,\n",
       " 151,\n",
       " 148,\n",
       " 188,\n",
       " 181,\n",
       " 194,\n",
       " 220,\n",
       " 221,\n",
       " 202,\n",
       " 224,\n",
       " 237,\n",
       " 265,\n",
       " 288,\n",
       " 346,\n",
       " 332,\n",
       " 330,\n",
       " 311,\n",
       " 281,\n",
       " 32]"
      ]
     },
     "execution_count": 14,
     "metadata": {},
     "output_type": "execute_result"
    }
   ],
   "source": [
    "extractive.filter(like='1.0', axis =0)['NAME'].tolist()"
   ]
  },
  {
   "cell_type": "markdown",
   "metadata": {},
   "source": [
    "# EXTRACTION COMPANIES"
   ]
  },
  {
   "cell_type": "code",
   "execution_count": 15,
   "metadata": {
    "collapsed": false
   },
   "outputs": [
    {
     "data": {
      "text/plain": [
       "[<matplotlib.lines.Line2D at 0x7f1cec3cc790>,\n",
       " <matplotlib.lines.Line2D at 0x7f1cec3cc890>]"
      ]
     },
     "execution_count": 15,
     "metadata": {},
     "output_type": "execute_result"
    },
    {
     "data": {
      "image/png": "[encoded data removed]",
      "text/plain": [
       "<matplotlib.figure.Figure at 0x7f1cec5925d0>"
      ]
     },
     "metadata": {},
     "output_type": "display_data"
    }
   ],
   "source": [
    "plt.plot(extractive.index.levels[0].tolist()[:-1], extractive.filter(like='1.0', axis =0)['NAME'].tolist()[:-1],\n",
    "         'rs',extractive.index.levels[0].tolist()[:-1],extractive.filter(like='0.0', axis =0)['NAME'].tolist()[:-1],'bs')"
   ]
  },
  {
   "cell_type": "code",
   "execution_count": null,
   "metadata": {
    "collapsed": true
   },
   "outputs": [],
   "source": []
  }
 ],
 "metadata": {
  "kernelspec": {
   "display_name": "Python 2",
   "language": "python",
   "name": "python2"
  },
  "language_info": {
   "codemirror_mode": {
    "name": "ipython",
    "version": 2
   },
   "file_extension": ".py",
   "mimetype": "text/x-python",
   "name": "python",
   "nbconvert_exporter": "python",
   "pygments_lexer": "ipython2",
   "version": "2.7.8"
  }
 },
 "nbformat": 4,
 "nbformat_minor": 0
}
