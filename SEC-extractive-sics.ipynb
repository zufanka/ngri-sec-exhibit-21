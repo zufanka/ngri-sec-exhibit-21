{
 "cells": [
  {
   "cell_type": "code",
   "execution_count": 165,
   "metadata": {
    "collapsed": true
   },
   "outputs": [],
   "source": [
    "import pandas as pd\n",
    "from matplotlib import pyplot as plt\n",
    "%matplotlib inline"
   ]
  },
  {
   "cell_type": "markdown",
   "metadata": {},
   "source": [
    "## assign SICs"
   ]
  },
  {
   "cell_type": "code",
   "execution_count": 166,
   "metadata": {
    "collapsed": false
   },
   "outputs": [],
   "source": [
    "sics = pd.read_csv('1504_Companies_MASTER.csv', dtype={'SIC': 'S'})\n",
    "sics = sics[['SIC','SIC Description']].drop_duplicates(keep=\"first\")"
   ]
  },
  {
   "cell_type": "code",
   "execution_count": 167,
   "metadata": {
    "collapsed": false
   },
   "outputs": [],
   "source": [
    "cs = pd.read_csv('companies-and-sectors')"
   ]
  },
  {
   "cell_type": "code",
   "execution_count": 168,
   "metadata": {
    "collapsed": false
   },
   "outputs": [],
   "source": [
    "country = pd.read_csv('csv/country31may2015.csv',\n",
    "                     dtype={'CIKNUMBER': 'I',\n",
    "                           'IRSNUMBER': 'S',\n",
    "                           'TAXHAVEN': 'S'} )"
   ]
  },
  {
   "cell_type": "markdown",
   "metadata": {},
   "source": [
    "CIKNUMBER - chamber of commerce nr <br>\n",
    "IRSNUMBER - tax number <br>\n",
    "NAME - company name <br>\n",
    "DATADATE - date of establishment <br>\n",
    "FILEDATE - file date <br>\n",
    "INCSTATE - state of incorporation <br>\n",
    "HQSTATE - state where headquarters is <br>\n",
    "ISO3 - subsidiary ISO3 <br>\n",
    "COUNTRY - subsidiary company country <br>\n",
    "TAXHAVEN - subsidiary company a tax haven? <br>\n",
    "COUNTRYCOUNT - amount of branches in the country <br>\n",
    "TOTALCOUNT - total amount of subsidiary branches <br>\n",
    "NCOUNTRIES - total amount of countries with subsidiaries <br>\n"
   ]
  },
  {
   "cell_type": "markdown",
   "metadata": {},
   "source": [
    "merge all according to SICS"
   ]
  },
  {
   "cell_type": "code",
   "execution_count": 182,
   "metadata": {
    "collapsed": false
   },
   "outputs": [],
   "source": [
    "merged = pd.merge(left=country, right=cs, left_on =\"CIKNUMBER\", right_on=\"cik\")\n",
    "merged['year'] = pd.to_datetime(merged['DATADATE']).dt.year"
   ]
  },
  {
   "cell_type": "code",
   "execution_count": 189,
   "metadata": {
    "collapsed": false
   },
   "outputs": [
    {
     "data": {
      "text/plain": [
       "[1993,\n",
       " 1994,\n",
       " 1995,\n",
       " 1996,\n",
       " 1997,\n",
       " 1998,\n",
       " 1999,\n",
       " 2000,\n",
       " 2001,\n",
       " 2002,\n",
       " 2003,\n",
       " 2004,\n",
       " 2005,\n",
       " 2006,\n",
       " 2007,\n",
       " 2008,\n",
       " 2009,\n",
       " 2010,\n",
       " 2011,\n",
       " 2012,\n",
       " 2013,\n",
       " 2014]"
      ]
     },
     "execution_count": 189,
     "metadata": {},
     "output_type": "execute_result"
    }
   ],
   "source": [
    "filtered.index.levels[0].tolist()[7:]"
   ]
  },
  {
   "cell_type": "code",
   "execution_count": 191,
   "metadata": {
    "collapsed": false
   },
   "outputs": [
    {
     "data": {
      "text/plain": [
       "[<matplotlib.lines.Line2D at 0x7f07a1d8aa10>,\n",
       " <matplotlib.lines.Line2D at 0x7f07a1d8abd0>]"
      ]
     },
     "execution_count": 191,
     "metadata": {},
     "output_type": "execute_result"
    },
    {
     "data": {
      "image/png": "[encoded data removed]",
      "text/plain": [
       "<matplotlib.figure.Figure at 0x7f07a1a67fd0>"
      ]
     },
     "metadata": {},
     "output_type": "display_data"
    }
   ],
   "source": [
    "filtered = pd.DataFrame(merged.groupby(by=['year', 'TAXHAVEN']).count()['NAME'])\n",
    "plt.plot(filtered.index.levels[0].tolist()[7:-1], filtered.filter(like='1.0', axis =0)['NAME'].tolist()[:-1],\n",
    "         'rs',filtered.index.levels[0].tolist()[7:-1],filtered.filter(like='0.0', axis =0)['NAME'].tolist()[:-1],'bs')"
   ]
  },
  {
   "cell_type": "markdown",
   "metadata": {},
   "source": [
    "merge only extractive according to to SICS"
   ]
  },
  {
   "cell_type": "code",
   "execution_count": null,
   "metadata": {
    "collapsed": false
   },
   "outputs": [],
   "source": [
    "extractive = pd.merge(left=merged, right=sics, left_on = \"sic\", right_on=\"SIC\")"
   ]
  },
  {
   "cell_type": "code",
   "execution_count": null,
   "metadata": {
    "collapsed": false
   },
   "outputs": [],
   "source": [
    "extractive['year'] = pd.to_datetime(extractive['DATADATE']).dt.year"
   ]
  },
  {
   "cell_type": "code",
   "execution_count": null,
   "metadata": {
    "collapsed": false
   },
   "outputs": [],
   "source": [
    "extractive = pd.DataFrame(extractive.groupby(by=['year', 'TAXHAVEN']).count()['NAME'])"
   ]
  },
  {
   "cell_type": "code",
   "execution_count": null,
   "metadata": {
    "collapsed": false
   },
   "outputs": [],
   "source": [
    "extractive.head()"
   ]
  },
  {
   "cell_type": "code",
   "execution_count": null,
   "metadata": {
    "collapsed": false
   },
   "outputs": [],
   "source": [
    "extractive.filter(like='1.0', axis =0)['NAME'].tolist()"
   ]
  },
  {
   "cell_type": "code",
   "execution_count": null,
   "metadata": {
    "collapsed": false
   },
   "outputs": [],
   "source": [
    "plt.plot(extractive.index.levels[0].tolist()[:-1], extractive.filter(like='1.0', axis =0)['NAME'].tolist()[:-1],\n",
    "         'rs',extractive.index.levels[0].tolist()[:-1],extractive.filter(like='0.0', axis =0)['NAME'].tolist()[:-1],'bs')"
   ]
  },
  {
   "cell_type": "code",
   "execution_count": null,
   "metadata": {
    "collapsed": true
   },
   "outputs": [],
   "source": []
  }
 ],
 "metadata": {
  "kernelspec": {
   "display_name": "Python 2",
   "language": "python",
   "name": "python2"
  },
  "language_info": {
   "codemirror_mode": {
    "name": "ipython",
    "version": 2
   },
   "file_extension": ".py",
   "mimetype": "text/x-python",
   "name": "python",
   "nbconvert_exporter": "python",
   "pygments_lexer": "ipython2",
   "version": "2.7.8"
  }
 },
 "nbformat": 4,
 "nbformat_minor": 0
}
